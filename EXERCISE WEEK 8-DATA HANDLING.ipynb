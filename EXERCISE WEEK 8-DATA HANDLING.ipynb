{
 "cells": [
  {
   "cell_type": "code",
   "execution_count": 35,
   "id": "0bca556e",
   "metadata": {},
   "outputs": [
    {
     "name": "stdout",
     "output_type": "stream",
     "text": [
      "Filtered data has been saved to top_students.csv.\n"
     ]
    }
   ],
   "source": [
    "import csv\n",
    "\n",
    "\n",
    "def filter_students(input_file, output_file):\n",
    "   \n",
    "    with open(input_file, 'r', newline='') as csvfile:\n",
    "        reader = csv.DictReader(csvfile)\n",
    "        header = reader.fieldnames + ['Status']\n",
    "        \n",
    "        with open(output_file, 'w', newline='') as output_csvfile:\n",
    "            writer = csv.DictWriter(output_csvfile, fieldnames=header)\n",
    "            writer.writeheader()\n",
    "            for row in reader:\n",
    "                if row['Grade'] <= 'B':\n",
    "                    row['Status'] = 'Passed'\n",
    "                    writer.writerow(row)\n",
    "input_file = 'students.csv'\n",
    "output_file = 'top_students.csv'\n",
    "\n",
    "\n",
    "filter_students(input_file, output_file)\n",
    "\n",
    "print(f\"Filtered data has been saved to {output_file}.\")"
   ]
  },
  {
   "cell_type": "code",
   "execution_count": 80,
   "id": "577eedce",
   "metadata": {},
   "outputs": [
    {
     "name": "stdout",
     "output_type": "stream",
     "text": [
      "Please enter name of state: Selangor\n",
      "The population of Selangor is : 6555400\n"
     ]
    }
   ],
   "source": [
    "import requests\n",
    "\n",
    "api_url = \"https://jian.sh/malaysia-api/state/v1/all.json\"\n",
    "response = requests.get(api_url)\n",
    "malaysia_state_data = response.json()\n",
    "\n",
    "state_name = str(input(\"Please enter name of state: \"))\n",
    "\n",
    "\n",
    "\n",
    "for state in malaysia_state_data:\n",
    "    if state_name in state['state']:\n",
    "        print(f\"The population of \" + state_name + \" is : \" + str(state['population'])) \n",
    "      \n",
    "        break \n",
    "        \n",
    "else:\n",
    "        print(state_name + ' is not found in the data')\n",
    "        "
   ]
  }
 ],
 "metadata": {
  "kernelspec": {
   "display_name": "Python 3 (ipykernel)",
   "language": "python",
   "name": "python3"
  },
  "language_info": {
   "codemirror_mode": {
    "name": "ipython",
    "version": 3
   },
   "file_extension": ".py",
   "mimetype": "text/x-python",
   "name": "python",
   "nbconvert_exporter": "python",
   "pygments_lexer": "ipython3",
   "version": "3.11.5"
  }
 },
 "nbformat": 4,
 "nbformat_minor": 5
}
